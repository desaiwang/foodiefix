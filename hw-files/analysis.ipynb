{
 "cells": [
  {
   "cell_type": "code",
   "execution_count": 66,
   "metadata": {},
   "outputs": [],
   "source": [
    "import pandas as pd\n",
    "import numpy as np\n",
    "import geopandas as gpd\n",
    "import matplotlib.pyplot as plt\n",
    "%matplotlib inline"
   ]
  },
  {
   "cell_type": "code",
   "execution_count": 67,
   "metadata": {},
   "outputs": [],
   "source": [
    "df =pd.read_csv(\"data/yelp_boston.csv\")"
   ]
  },
  {
   "cell_type": "code",
   "execution_count": 69,
   "metadata": {},
   "outputs": [
    {
     "data": {
      "text/html": [
       "<div>\n",
       "<style scoped>\n",
       "    .dataframe tbody tr th:only-of-type {\n",
       "        vertical-align: middle;\n",
       "    }\n",
       "\n",
       "    .dataframe tbody tr th {\n",
       "        vertical-align: top;\n",
       "    }\n",
       "\n",
       "    .dataframe thead th {\n",
       "        text-align: right;\n",
       "    }\n",
       "</style>\n",
       "<table border=\"1\" class=\"dataframe\">\n",
       "  <thead>\n",
       "    <tr style=\"text-align: right;\">\n",
       "      <th></th>\n",
       "      <th>name</th>\n",
       "      <th>url</th>\n",
       "      <th>review_count</th>\n",
       "      <th>categories_json</th>\n",
       "      <th>rating</th>\n",
       "      <th>snippet_text</th>\n",
       "      <th>location_json</th>\n",
       "      <th>neighborhood</th>\n",
       "      <th>latitude</th>\n",
       "      <th>longitude</th>\n",
       "      <th>search category</th>\n",
       "    </tr>\n",
       "  </thead>\n",
       "  <tbody>\n",
       "    <tr>\n",
       "      <th>107</th>\n",
       "      <td>Pret A Manger</td>\n",
       "      <td>http://www.yelp.com/biz/pret-a-manger-boston-2</td>\n",
       "      <td>79</td>\n",
       "      <td>[[\"Coffee &amp; Tea\", \"coffee\"], [\"Sandwiches\", \"s...</td>\n",
       "      <td>4.0</td>\n",
       "      <td>Leaving a review because I don't think this lo...</td>\n",
       "      <td>{\"cross_streets\": \"Pearl St &amp; Congress St\", \"c...</td>\n",
       "      <td>Financial District</td>\n",
       "      <td>42.355621</td>\n",
       "      <td>-71.05542</td>\n",
       "      <td>cafes</td>\n",
       "    </tr>\n",
       "  </tbody>\n",
       "</table>\n",
       "</div>"
      ],
      "text/plain": [
       "              name                                             url  \\\n",
       "107  Pret A Manger  http://www.yelp.com/biz/pret-a-manger-boston-2   \n",
       "\n",
       "     review_count                                    categories_json  rating  \\\n",
       "107            79  [[\"Coffee & Tea\", \"coffee\"], [\"Sandwiches\", \"s...     4.0   \n",
       "\n",
       "                                          snippet_text  \\\n",
       "107  Leaving a review because I don't think this lo...   \n",
       "\n",
       "                                         location_json        neighborhood  \\\n",
       "107  {\"cross_streets\": \"Pearl St & Congress St\", \"c...  Financial District   \n",
       "\n",
       "      latitude  longitude search category  \n",
       "107  42.355621  -71.05542           cafes  "
      ]
     },
     "execution_count": 69,
     "metadata": {},
     "output_type": "execute_result"
    }
   ],
   "source": [
    "df[df['name']==\"Pret A Manger\"]"
   ]
  },
  {
   "cell_type": "code",
   "execution_count": 4,
   "metadata": {},
   "outputs": [
    {
     "data": {
      "text/plain": [
       "[3.5, 4.0, 4.5, 5.0]"
      ]
     },
     "execution_count": 4,
     "metadata": {},
     "output_type": "execute_result"
    }
   ],
   "source": [
    "list(df.groupby(\"rating\").groups.keys())"
   ]
  },
  {
   "cell_type": "code",
   "execution_count": 16,
   "metadata": {},
   "outputs": [
    {
     "data": {
      "text/plain": [
       "283"
      ]
     },
     "execution_count": 16,
     "metadata": {},
     "output_type": "execute_result"
    }
   ],
   "source": [
    "len(df), len(list(df.groupby(\"name\").groups.keys()))"
   ]
  },
  {
   "cell_type": "code",
   "execution_count": 14,
   "metadata": {},
   "outputs": [
    {
     "data": {
      "text/plain": [
       "22"
      ]
     },
     "execution_count": 14,
     "metadata": {},
     "output_type": "execute_result"
    }
   ],
   "source": [
    "len(list(df.groupby(\"rating\").groups.values())[0]) #number of restaurants with rating=3.5"
   ]
  },
  {
   "cell_type": "code",
   "execution_count": 59,
   "metadata": {},
   "outputs": [],
   "source": [
    "#aggregate search categories when there's duplicate\n",
    "grouped = df.groupby('name')['search category'].agg(list).reset_index()\n",
    "\n",
    "#dedup based on names\n",
    "dedup = df.groupby(\"name\").first().reset_index()"
   ]
  },
  {
   "cell_type": "code",
   "execution_count": 63,
   "metadata": {},
   "outputs": [
    {
     "data": {
      "text/plain": [
       "52"
      ]
     },
     "execution_count": 63,
     "metadata": {},
     "output_type": "execute_result"
    }
   ],
   "source": [
    "#number of restaurants that have multiple categories\n",
    "len(grouped[grouped['search category'].map(lambda x: len(x)>1).tolist()])"
   ]
  },
  {
   "cell_type": "code",
   "execution_count": 65,
   "metadata": {},
   "outputs": [],
   "source": [
    "df_clean = pd.merge(dedup.drop(columns=['search category']), grouped, on=\"name\")\n",
    "df_clean.to_csv(\"yelp_boston_clean.csv\")"
   ]
  }
 ],
 "metadata": {
  "kernelspec": {
   "display_name": "Python 3",
   "language": "python",
   "name": "python3"
  },
  "language_info": {
   "codemirror_mode": {
    "name": "ipython",
    "version": 3
   },
   "file_extension": ".py",
   "mimetype": "text/x-python",
   "name": "python",
   "nbconvert_exporter": "python",
   "pygments_lexer": "ipython3",
   "version": "3.10.13"
  }
 },
 "nbformat": 4,
 "nbformat_minor": 2
}
