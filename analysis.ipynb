{
 "cells": [
  {
   "cell_type": "code",
   "execution_count": 2,
   "metadata": {},
   "outputs": [],
   "source": [
    "import pandas as pd\n",
    "import numpy as np\n",
    "import geopandas as gpd\n",
    "import matplotlib.pyplot as plt\n",
    "%matplotlib inline"
   ]
  },
  {
   "cell_type": "code",
   "execution_count": 3,
   "metadata": {},
   "outputs": [],
   "source": [
    "df =pd.read_csv(\"static/yelp_boston.csv\")"
   ]
  },
  {
   "cell_type": "code",
   "execution_count": 15,
   "metadata": {},
   "outputs": [
    {
     "data": {
      "text/html": [
       "<div>\n",
       "<style scoped>\n",
       "    .dataframe tbody tr th:only-of-type {\n",
       "        vertical-align: middle;\n",
       "    }\n",
       "\n",
       "    .dataframe tbody tr th {\n",
       "        vertical-align: top;\n",
       "    }\n",
       "\n",
       "    .dataframe thead th {\n",
       "        text-align: right;\n",
       "    }\n",
       "</style>\n",
       "<table border=\"1\" class=\"dataframe\">\n",
       "  <thead>\n",
       "    <tr style=\"text-align: right;\">\n",
       "      <th></th>\n",
       "      <th>name</th>\n",
       "      <th>url</th>\n",
       "      <th>review_count</th>\n",
       "      <th>categories_json</th>\n",
       "      <th>rating</th>\n",
       "      <th>snippet_text</th>\n",
       "      <th>location_json</th>\n",
       "      <th>neighborhood</th>\n",
       "      <th>latitude</th>\n",
       "      <th>longitude</th>\n",
       "      <th>search category</th>\n",
       "    </tr>\n",
       "  </thead>\n",
       "  <tbody>\n",
       "    <tr>\n",
       "      <th>8</th>\n",
       "      <td>Galleria Umberto</td>\n",
       "      <td>http://www.yelp.com/biz/galleria-umberto-boston</td>\n",
       "      <td>354</td>\n",
       "      <td>[[\"Pizza\", \"pizza\"], [\"Salad\", \"salad\"], [\"San...</td>\n",
       "      <td>4.5</td>\n",
       "      <td>Yeah i can see why theres so much hype about t...</td>\n",
       "      <td>{\"cross_streets\": \"Parmenter St &amp; Wesley Pl\", ...</td>\n",
       "      <td>North End</td>\n",
       "      <td>42.363778</td>\n",
       "      <td>-71.05445</td>\n",
       "      <td>restaurants</td>\n",
       "    </tr>\n",
       "    <tr>\n",
       "      <th>82</th>\n",
       "      <td>Galleria Umberto</td>\n",
       "      <td>http://www.yelp.com/biz/galleria-umberto-boston</td>\n",
       "      <td>354</td>\n",
       "      <td>[[\"Pizza\", \"pizza\"], [\"Salad\", \"salad\"], [\"San...</td>\n",
       "      <td>4.5</td>\n",
       "      <td>Yeah i can see why theres so much hype about t...</td>\n",
       "      <td>{\"cross_streets\": \"Parmenter St &amp; Wesley Pl\", ...</td>\n",
       "      <td>North End</td>\n",
       "      <td>42.363778</td>\n",
       "      <td>-71.05445</td>\n",
       "      <td>sandwiches</td>\n",
       "    </tr>\n",
       "    <tr>\n",
       "      <th>232</th>\n",
       "      <td>Galleria Umberto</td>\n",
       "      <td>http://www.yelp.com/biz/galleria-umberto-boston</td>\n",
       "      <td>354</td>\n",
       "      <td>[[\"Pizza\", \"pizza\"], [\"Salad\", \"salad\"], [\"San...</td>\n",
       "      <td>4.5</td>\n",
       "      <td>Yeah i can see why theres so much hype about t...</td>\n",
       "      <td>{\"cross_streets\": \"Parmenter St &amp; Wesley Pl\", ...</td>\n",
       "      <td>North End</td>\n",
       "      <td>42.363778</td>\n",
       "      <td>-71.05445</td>\n",
       "      <td>pizza</td>\n",
       "    </tr>\n",
       "  </tbody>\n",
       "</table>\n",
       "</div>"
      ],
      "text/plain": [
       "                 name                                              url  \\\n",
       "8    Galleria Umberto  http://www.yelp.com/biz/galleria-umberto-boston   \n",
       "82   Galleria Umberto  http://www.yelp.com/biz/galleria-umberto-boston   \n",
       "232  Galleria Umberto  http://www.yelp.com/biz/galleria-umberto-boston   \n",
       "\n",
       "     review_count                                    categories_json  rating  \\\n",
       "8             354  [[\"Pizza\", \"pizza\"], [\"Salad\", \"salad\"], [\"San...     4.5   \n",
       "82            354  [[\"Pizza\", \"pizza\"], [\"Salad\", \"salad\"], [\"San...     4.5   \n",
       "232           354  [[\"Pizza\", \"pizza\"], [\"Salad\", \"salad\"], [\"San...     4.5   \n",
       "\n",
       "                                          snippet_text  \\\n",
       "8    Yeah i can see why theres so much hype about t...   \n",
       "82   Yeah i can see why theres so much hype about t...   \n",
       "232  Yeah i can see why theres so much hype about t...   \n",
       "\n",
       "                                         location_json neighborhood  \\\n",
       "8    {\"cross_streets\": \"Parmenter St & Wesley Pl\", ...    North End   \n",
       "82   {\"cross_streets\": \"Parmenter St & Wesley Pl\", ...    North End   \n",
       "232  {\"cross_streets\": \"Parmenter St & Wesley Pl\", ...    North End   \n",
       "\n",
       "      latitude  longitude search category  \n",
       "8    42.363778  -71.05445     restaurants  \n",
       "82   42.363778  -71.05445      sandwiches  \n",
       "232  42.363778  -71.05445           pizza  "
      ]
     },
     "execution_count": 15,
     "metadata": {},
     "output_type": "execute_result"
    }
   ],
   "source": [
    "df[df['name']=='Galleria Umberto']"
   ]
  },
  {
   "cell_type": "code",
   "execution_count": 4,
   "metadata": {},
   "outputs": [
    {
     "data": {
      "text/plain": [
       "[3.5, 4.0, 4.5, 5.0]"
      ]
     },
     "execution_count": 4,
     "metadata": {},
     "output_type": "execute_result"
    }
   ],
   "source": [
    "list(df.groupby(\"rating\").groups.keys())"
   ]
  },
  {
   "cell_type": "code",
   "execution_count": 16,
   "metadata": {},
   "outputs": [
    {
     "data": {
      "text/plain": [
       "283"
      ]
     },
     "execution_count": 16,
     "metadata": {},
     "output_type": "execute_result"
    }
   ],
   "source": [
    "len(list(df.groupby(\"name\").groups.keys()))"
   ]
  },
  {
   "cell_type": "code",
   "execution_count": 17,
   "metadata": {},
   "outputs": [
    {
     "data": {
      "text/plain": [
       "343"
      ]
     },
     "execution_count": 17,
     "metadata": {},
     "output_type": "execute_result"
    }
   ],
   "source": [
    "len(df)"
   ]
  },
  {
   "cell_type": "code",
   "execution_count": 14,
   "metadata": {},
   "outputs": [
    {
     "data": {
      "text/plain": [
       "22"
      ]
     },
     "execution_count": 14,
     "metadata": {},
     "output_type": "execute_result"
    }
   ],
   "source": [
    "len(list(df.groupby(\"rating\").groups.values())[0])"
   ]
  }
 ],
 "metadata": {
  "kernelspec": {
   "display_name": "Python 3",
   "language": "python",
   "name": "python3"
  },
  "language_info": {
   "codemirror_mode": {
    "name": "ipython",
    "version": 3
   },
   "file_extension": ".py",
   "mimetype": "text/x-python",
   "name": "python",
   "nbconvert_exporter": "python",
   "pygments_lexer": "ipython3",
   "version": "3.10.13"
  }
 },
 "nbformat": 4,
 "nbformat_minor": 2
}
